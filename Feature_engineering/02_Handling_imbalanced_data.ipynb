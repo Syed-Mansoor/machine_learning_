{
 "cells": [
  {
   "cell_type": "markdown",
   "id": "24a48ce5-4ade-4ebd-be55-8cf0bf1ce1e4",
   "metadata": {},
   "source": [
    "# Handling Imbalanced data\n",
    "### 1. Upsampling\n",
    "### 2. Down sampling"
   ]
  },
  {
   "cell_type": "code",
   "execution_count": 3,
   "id": "2b91363e-b65d-4185-9d21-b305b4ea1bef",
   "metadata": {},
   "outputs": [],
   "source": [
    "import pandas as pd\n",
    "import numpy as np"
   ]
  },
  {
   "cell_type": "code",
   "execution_count": 4,
   "id": "466c5e8e-bfa1-41e8-aced-b021b495ff21",
   "metadata": {},
   "outputs": [],
   "source": [
    "# set the random seed for reproducibility\n",
    "np.random.seed(123)\n",
    "\n",
    "# create a dataframe with two classes\n",
    "n_samples = 1000\n",
    "class_0_ratio = 0.9\n",
    "n_class_0 = int(n_samples  * class_0_ratio)\n",
    "n_class_1 = n_samples - n_class_0"
   ]
  },
  {
   "cell_type": "code",
   "execution_count": 5,
   "id": "ba2f7c91-2dc8-4f6d-9ac1-e13f8bd463c7",
   "metadata": {
    "scrolled": true
   },
   "outputs": [
    {
     "data": {
      "text/plain": [
       "(900, 100)"
      ]
     },
     "execution_count": 5,
     "metadata": {},
     "output_type": "execute_result"
    }
   ],
   "source": [
    "n_class_0,n_class_1"
   ]
  },
  {
   "cell_type": "code",
   "execution_count": 6,
   "id": "df1bc86c-7190-47c4-af88-fc3e2bbee874",
   "metadata": {},
   "outputs": [],
   "source": [
    "class_0 = pd.DataFrame({\n",
    "    'feature_1':np.random.normal(loc = 0 ,scale = 1,size = n_class_0),\n",
    "    'feature_2':np.random.normal(loc = 0,scale = 1,size = n_class_0),\n",
    "    'target':[0]*n_class_0\n",
    "})\n",
    "class_1 = pd.DataFrame({\n",
    "    'feature_1':np.random.normal(loc = 2 ,scale = 1,size = n_class_1),\n",
    "    'feature_2':np.random.normal(loc = 2,scale = 1,size = n_class_1),\n",
    "    'target':[1]*n_class_1\n",
    "})"
   ]
  },
  {
   "cell_type": "code",
   "execution_count": 7,
   "id": "1700bd5c-604d-47dd-a994-3f8823df7abd",
   "metadata": {},
   "outputs": [],
   "source": [
    "df = pd.concat([class_0,class_1]).reset_index(drop = True)"
   ]
  },
  {
   "cell_type": "code",
   "execution_count": 8,
   "id": "9009f4e5-9b8e-4877-97a4-76b4d2bd166f",
   "metadata": {},
   "outputs": [
    {
     "data": {
      "text/html": [
       "<div>\n",
       "<style scoped>\n",
       "    .dataframe tbody tr th:only-of-type {\n",
       "        vertical-align: middle;\n",
       "    }\n",
       "\n",
       "    .dataframe tbody tr th {\n",
       "        vertical-align: top;\n",
       "    }\n",
       "\n",
       "    .dataframe thead th {\n",
       "        text-align: right;\n",
       "    }\n",
       "</style>\n",
       "<table border=\"1\" class=\"dataframe\">\n",
       "  <thead>\n",
       "    <tr style=\"text-align: right;\">\n",
       "      <th></th>\n",
       "      <th>feature_1</th>\n",
       "      <th>feature_2</th>\n",
       "      <th>target</th>\n",
       "    </tr>\n",
       "  </thead>\n",
       "  <tbody>\n",
       "    <tr>\n",
       "      <th>0</th>\n",
       "      <td>-1.085631</td>\n",
       "      <td>0.551302</td>\n",
       "      <td>0</td>\n",
       "    </tr>\n",
       "    <tr>\n",
       "      <th>1</th>\n",
       "      <td>0.997345</td>\n",
       "      <td>0.419589</td>\n",
       "      <td>0</td>\n",
       "    </tr>\n",
       "    <tr>\n",
       "      <th>2</th>\n",
       "      <td>0.282978</td>\n",
       "      <td>1.815652</td>\n",
       "      <td>0</td>\n",
       "    </tr>\n",
       "    <tr>\n",
       "      <th>3</th>\n",
       "      <td>-1.506295</td>\n",
       "      <td>-0.252750</td>\n",
       "      <td>0</td>\n",
       "    </tr>\n",
       "    <tr>\n",
       "      <th>4</th>\n",
       "      <td>-0.578600</td>\n",
       "      <td>-0.292004</td>\n",
       "      <td>0</td>\n",
       "    </tr>\n",
       "  </tbody>\n",
       "</table>\n",
       "</div>"
      ],
      "text/plain": [
       "   feature_1  feature_2  target\n",
       "0  -1.085631   0.551302       0\n",
       "1   0.997345   0.419589       0\n",
       "2   0.282978   1.815652       0\n",
       "3  -1.506295  -0.252750       0\n",
       "4  -0.578600  -0.292004       0"
      ]
     },
     "execution_count": 8,
     "metadata": {},
     "output_type": "execute_result"
    }
   ],
   "source": [
    "df.head()"
   ]
  },
  {
   "cell_type": "code",
   "execution_count": 9,
   "id": "03d8ae64-8ff5-49b5-9a6b-dfde5d825878",
   "metadata": {},
   "outputs": [
    {
     "data": {
      "text/plain": [
       "target\n",
       "0    900\n",
       "1    100\n",
       "Name: count, dtype: int64"
      ]
     },
     "execution_count": 9,
     "metadata": {},
     "output_type": "execute_result"
    }
   ],
   "source": [
    "df['target'].value_counts()"
   ]
  },
  {
   "cell_type": "markdown",
   "id": "e8473669-a94a-4519-8eaf-43117190f77d",
   "metadata": {},
   "source": [
    "## Upsampling"
   ]
  },
  {
   "cell_type": "code",
   "execution_count": 12,
   "id": "b7089e8f-68ee-4917-90ac-03d1cd7fc052",
   "metadata": {},
   "outputs": [],
   "source": [
    "df_minorty = df[df['target'] == 1]\n",
    "df_majority = df[df['target'] == 0]"
   ]
  },
  {
   "cell_type": "code",
   "execution_count": 14,
   "id": "55d82bb4-b3da-4768-a1e3-e77fa4333c5a",
   "metadata": {},
   "outputs": [
    {
     "data": {
      "text/html": [
       "<div>\n",
       "<style scoped>\n",
       "    .dataframe tbody tr th:only-of-type {\n",
       "        vertical-align: middle;\n",
       "    }\n",
       "\n",
       "    .dataframe tbody tr th {\n",
       "        vertical-align: top;\n",
       "    }\n",
       "\n",
       "    .dataframe thead th {\n",
       "        text-align: right;\n",
       "    }\n",
       "</style>\n",
       "<table border=\"1\" class=\"dataframe\">\n",
       "  <thead>\n",
       "    <tr style=\"text-align: right;\">\n",
       "      <th></th>\n",
       "      <th>feature_1</th>\n",
       "      <th>feature_2</th>\n",
       "      <th>target</th>\n",
       "    </tr>\n",
       "  </thead>\n",
       "  <tbody>\n",
       "    <tr>\n",
       "      <th>0</th>\n",
       "      <td>-1.085631</td>\n",
       "      <td>0.551302</td>\n",
       "      <td>0</td>\n",
       "    </tr>\n",
       "    <tr>\n",
       "      <th>1</th>\n",
       "      <td>0.997345</td>\n",
       "      <td>0.419589</td>\n",
       "      <td>0</td>\n",
       "    </tr>\n",
       "    <tr>\n",
       "      <th>2</th>\n",
       "      <td>0.282978</td>\n",
       "      <td>1.815652</td>\n",
       "      <td>0</td>\n",
       "    </tr>\n",
       "    <tr>\n",
       "      <th>3</th>\n",
       "      <td>-1.506295</td>\n",
       "      <td>-0.252750</td>\n",
       "      <td>0</td>\n",
       "    </tr>\n",
       "    <tr>\n",
       "      <th>4</th>\n",
       "      <td>-0.578600</td>\n",
       "      <td>-0.292004</td>\n",
       "      <td>0</td>\n",
       "    </tr>\n",
       "    <tr>\n",
       "      <th>...</th>\n",
       "      <td>...</td>\n",
       "      <td>...</td>\n",
       "      <td>...</td>\n",
       "    </tr>\n",
       "    <tr>\n",
       "      <th>895</th>\n",
       "      <td>0.238761</td>\n",
       "      <td>-0.003155</td>\n",
       "      <td>0</td>\n",
       "    </tr>\n",
       "    <tr>\n",
       "      <th>896</th>\n",
       "      <td>-1.106386</td>\n",
       "      <td>-0.430660</td>\n",
       "      <td>0</td>\n",
       "    </tr>\n",
       "    <tr>\n",
       "      <th>897</th>\n",
       "      <td>0.366732</td>\n",
       "      <td>-0.146416</td>\n",
       "      <td>0</td>\n",
       "    </tr>\n",
       "    <tr>\n",
       "      <th>898</th>\n",
       "      <td>1.023906</td>\n",
       "      <td>1.160176</td>\n",
       "      <td>0</td>\n",
       "    </tr>\n",
       "    <tr>\n",
       "      <th>899</th>\n",
       "      <td>-0.210056</td>\n",
       "      <td>-0.641512</td>\n",
       "      <td>0</td>\n",
       "    </tr>\n",
       "  </tbody>\n",
       "</table>\n",
       "<p>900 rows × 3 columns</p>\n",
       "</div>"
      ],
      "text/plain": [
       "     feature_1  feature_2  target\n",
       "0    -1.085631   0.551302       0\n",
       "1     0.997345   0.419589       0\n",
       "2     0.282978   1.815652       0\n",
       "3    -1.506295  -0.252750       0\n",
       "4    -0.578600  -0.292004       0\n",
       "..         ...        ...     ...\n",
       "895   0.238761  -0.003155       0\n",
       "896  -1.106386  -0.430660       0\n",
       "897   0.366732  -0.146416       0\n",
       "898   1.023906   1.160176       0\n",
       "899  -0.210056  -0.641512       0\n",
       "\n",
       "[900 rows x 3 columns]"
      ]
     },
     "execution_count": 14,
     "metadata": {},
     "output_type": "execute_result"
    }
   ],
   "source": [
    "df_majority"
   ]
  },
  {
   "cell_type": "code",
   "execution_count": 17,
   "id": "af8e4731-14f7-4294-b485-c619d313f88c",
   "metadata": {},
   "outputs": [
    {
     "data": {
      "text/html": [
       "<div>\n",
       "<style scoped>\n",
       "    .dataframe tbody tr th:only-of-type {\n",
       "        vertical-align: middle;\n",
       "    }\n",
       "\n",
       "    .dataframe tbody tr th {\n",
       "        vertical-align: top;\n",
       "    }\n",
       "\n",
       "    .dataframe thead th {\n",
       "        text-align: right;\n",
       "    }\n",
       "</style>\n",
       "<table border=\"1\" class=\"dataframe\">\n",
       "  <thead>\n",
       "    <tr style=\"text-align: right;\">\n",
       "      <th></th>\n",
       "      <th>feature_1</th>\n",
       "      <th>feature_2</th>\n",
       "      <th>target</th>\n",
       "    </tr>\n",
       "  </thead>\n",
       "  <tbody>\n",
       "    <tr>\n",
       "      <th>0</th>\n",
       "      <td>-1.085631</td>\n",
       "      <td>0.551302</td>\n",
       "      <td>0</td>\n",
       "    </tr>\n",
       "    <tr>\n",
       "      <th>1</th>\n",
       "      <td>0.997345</td>\n",
       "      <td>0.419589</td>\n",
       "      <td>0</td>\n",
       "    </tr>\n",
       "    <tr>\n",
       "      <th>2</th>\n",
       "      <td>0.282978</td>\n",
       "      <td>1.815652</td>\n",
       "      <td>0</td>\n",
       "    </tr>\n",
       "    <tr>\n",
       "      <th>3</th>\n",
       "      <td>-1.506295</td>\n",
       "      <td>-0.252750</td>\n",
       "      <td>0</td>\n",
       "    </tr>\n",
       "    <tr>\n",
       "      <th>4</th>\n",
       "      <td>-0.578600</td>\n",
       "      <td>-0.292004</td>\n",
       "      <td>0</td>\n",
       "    </tr>\n",
       "  </tbody>\n",
       "</table>\n",
       "</div>"
      ],
      "text/plain": [
       "   feature_1  feature_2  target\n",
       "0  -1.085631   0.551302       0\n",
       "1   0.997345   0.419589       0\n",
       "2   0.282978   1.815652       0\n",
       "3  -1.506295  -0.252750       0\n",
       "4  -0.578600  -0.292004       0"
      ]
     },
     "execution_count": 17,
     "metadata": {},
     "output_type": "execute_result"
    }
   ],
   "source": [
    "df_majority.head()"
   ]
  },
  {
   "cell_type": "code",
   "execution_count": 20,
   "id": "5b5c610c-10fa-440a-a807-005097297fd8",
   "metadata": {},
   "outputs": [],
   "source": [
    "# upsampling perform\n",
    "from sklearn.utils import resample"
   ]
  },
  {
   "cell_type": "code",
   "execution_count": 22,
   "id": "57a9dd18-b403-499b-91c6-a79e65cb377a",
   "metadata": {},
   "outputs": [],
   "source": [
    "df_minorty_upsample = resample(df_minorty,\n",
    "                              replace = True, # sample with replacement\n",
    "                              n_samples=len(df_majority), # to match the majority\n",
    "                              random_state=42)"
   ]
  },
  {
   "cell_type": "code",
   "execution_count": 23,
   "id": "5f1fe6b3-72e8-4481-bd62-3d1adcae5433",
   "metadata": {},
   "outputs": [
    {
     "data": {
      "text/plain": [
       "(900, 3)"
      ]
     },
     "execution_count": 23,
     "metadata": {},
     "output_type": "execute_result"
    }
   ],
   "source": [
    "df_minorty_upsample.shape"
   ]
  },
  {
   "cell_type": "code",
   "execution_count": 26,
   "id": "a2c8b9cd-c9dc-4dc7-a8a0-3f6157798dc9",
   "metadata": {},
   "outputs": [
    {
     "data": {
      "text/html": [
       "<div>\n",
       "<style scoped>\n",
       "    .dataframe tbody tr th:only-of-type {\n",
       "        vertical-align: middle;\n",
       "    }\n",
       "\n",
       "    .dataframe tbody tr th {\n",
       "        vertical-align: top;\n",
       "    }\n",
       "\n",
       "    .dataframe thead th {\n",
       "        text-align: right;\n",
       "    }\n",
       "</style>\n",
       "<table border=\"1\" class=\"dataframe\">\n",
       "  <thead>\n",
       "    <tr style=\"text-align: right;\">\n",
       "      <th></th>\n",
       "      <th>feature_1</th>\n",
       "      <th>feature_2</th>\n",
       "      <th>target</th>\n",
       "    </tr>\n",
       "  </thead>\n",
       "  <tbody>\n",
       "    <tr>\n",
       "      <th>951</th>\n",
       "      <td>1.125854</td>\n",
       "      <td>1.843917</td>\n",
       "      <td>1</td>\n",
       "    </tr>\n",
       "    <tr>\n",
       "      <th>992</th>\n",
       "      <td>2.196570</td>\n",
       "      <td>1.397425</td>\n",
       "      <td>1</td>\n",
       "    </tr>\n",
       "    <tr>\n",
       "      <th>914</th>\n",
       "      <td>1.932170</td>\n",
       "      <td>2.998053</td>\n",
       "      <td>1</td>\n",
       "    </tr>\n",
       "    <tr>\n",
       "      <th>971</th>\n",
       "      <td>2.272825</td>\n",
       "      <td>3.034197</td>\n",
       "      <td>1</td>\n",
       "    </tr>\n",
       "    <tr>\n",
       "      <th>960</th>\n",
       "      <td>2.870056</td>\n",
       "      <td>1.550485</td>\n",
       "      <td>1</td>\n",
       "    </tr>\n",
       "  </tbody>\n",
       "</table>\n",
       "</div>"
      ],
      "text/plain": [
       "     feature_1  feature_2  target\n",
       "951   1.125854   1.843917       1\n",
       "992   2.196570   1.397425       1\n",
       "914   1.932170   2.998053       1\n",
       "971   2.272825   3.034197       1\n",
       "960   2.870056   1.550485       1"
      ]
     },
     "execution_count": 26,
     "metadata": {},
     "output_type": "execute_result"
    }
   ],
   "source": [
    "df_minorty_upsample.head()"
   ]
  },
  {
   "cell_type": "code",
   "execution_count": 28,
   "id": "55183963-3327-4fd9-859b-6ff263c56071",
   "metadata": {},
   "outputs": [
    {
     "data": {
      "text/plain": [
       "target\n",
       "1    900\n",
       "Name: count, dtype: int64"
      ]
     },
     "execution_count": 28,
     "metadata": {},
     "output_type": "execute_result"
    }
   ],
   "source": [
    "df_minorty_upsample['target'].value_counts()"
   ]
  },
  {
   "cell_type": "code",
   "execution_count": 29,
   "id": "e3ea32ed-11ca-46f5-91e6-fa2713b7e7dc",
   "metadata": {},
   "outputs": [],
   "source": [
    "df_upsampled = pd.concat([df_majority,df_minorty_upsample])"
   ]
  },
  {
   "cell_type": "code",
   "execution_count": 30,
   "id": "de23ccd0-8ec0-4d5a-bc3a-9f73a656c846",
   "metadata": {},
   "outputs": [
    {
     "data": {
      "text/plain": [
       "target\n",
       "0    900\n",
       "1    900\n",
       "Name: count, dtype: int64"
      ]
     },
     "execution_count": 30,
     "metadata": {},
     "output_type": "execute_result"
    }
   ],
   "source": [
    "df_upsampled['target'].value_counts()"
   ]
  },
  {
   "cell_type": "code",
   "execution_count": 31,
   "id": "f501870a-97de-476c-92e3-d467fc3afdd1",
   "metadata": {},
   "outputs": [
    {
     "data": {
      "text/plain": [
       "(1800, 3)"
      ]
     },
     "execution_count": 31,
     "metadata": {},
     "output_type": "execute_result"
    }
   ],
   "source": [
    "df_upsampled.shape"
   ]
  },
  {
   "cell_type": "markdown",
   "id": "14358572-5bf9-4c3c-8aaf-10c43d322caa",
   "metadata": {},
   "source": [
    "# downsampling"
   ]
  },
  {
   "cell_type": "code",
   "execution_count": 33,
   "id": "c03e2f44-2f8a-496e-bef1-c16f29d78532",
   "metadata": {},
   "outputs": [],
   "source": [
    "class_0 = pd.DataFrame({\n",
    "    'feature_1':np.random.normal(loc = 0 ,scale = 1,size = n_class_0),\n",
    "    'feature_2':np.random.normal(loc = 0,scale = 1,size = n_class_0),\n",
    "    'target':[0]*n_class_0\n",
    "})\n",
    "class_1 = pd.DataFrame({\n",
    "    'feature_1':np.random.normal(loc = 2 ,scale = 1,size = n_class_1),\n",
    "    'feature_2':np.random.normal(loc = 2,scale = 1,size = n_class_1),\n",
    "    'target':[1]*n_class_1\n",
    "})"
   ]
  },
  {
   "cell_type": "code",
   "execution_count": 34,
   "id": "be0a5c92-0557-4d58-927c-f3d8c3241b04",
   "metadata": {},
   "outputs": [],
   "source": [
    "df = pd.concat([class_0,class_1]).reset_index(drop = True)"
   ]
  },
  {
   "cell_type": "code",
   "execution_count": 35,
   "id": "aab2adb9-8ba5-4cbe-9bd6-de08e313d467",
   "metadata": {},
   "outputs": [
    {
     "data": {
      "text/html": [
       "<div>\n",
       "<style scoped>\n",
       "    .dataframe tbody tr th:only-of-type {\n",
       "        vertical-align: middle;\n",
       "    }\n",
       "\n",
       "    .dataframe tbody tr th {\n",
       "        vertical-align: top;\n",
       "    }\n",
       "\n",
       "    .dataframe thead th {\n",
       "        text-align: right;\n",
       "    }\n",
       "</style>\n",
       "<table border=\"1\" class=\"dataframe\">\n",
       "  <thead>\n",
       "    <tr style=\"text-align: right;\">\n",
       "      <th></th>\n",
       "      <th>feature_1</th>\n",
       "      <th>feature_2</th>\n",
       "      <th>target</th>\n",
       "    </tr>\n",
       "  </thead>\n",
       "  <tbody>\n",
       "    <tr>\n",
       "      <th>0</th>\n",
       "      <td>-1.774224</td>\n",
       "      <td>0.285744</td>\n",
       "      <td>0</td>\n",
       "    </tr>\n",
       "    <tr>\n",
       "      <th>1</th>\n",
       "      <td>-1.201377</td>\n",
       "      <td>0.333279</td>\n",
       "      <td>0</td>\n",
       "    </tr>\n",
       "    <tr>\n",
       "      <th>2</th>\n",
       "      <td>1.096257</td>\n",
       "      <td>0.531807</td>\n",
       "      <td>0</td>\n",
       "    </tr>\n",
       "    <tr>\n",
       "      <th>3</th>\n",
       "      <td>0.861037</td>\n",
       "      <td>-0.354766</td>\n",
       "      <td>0</td>\n",
       "    </tr>\n",
       "    <tr>\n",
       "      <th>4</th>\n",
       "      <td>-1.520367</td>\n",
       "      <td>-1.120815</td>\n",
       "      <td>0</td>\n",
       "    </tr>\n",
       "  </tbody>\n",
       "</table>\n",
       "</div>"
      ],
      "text/plain": [
       "   feature_1  feature_2  target\n",
       "0  -1.774224   0.285744       0\n",
       "1  -1.201377   0.333279       0\n",
       "2   1.096257   0.531807       0\n",
       "3   0.861037  -0.354766       0\n",
       "4  -1.520367  -1.120815       0"
      ]
     },
     "execution_count": 35,
     "metadata": {},
     "output_type": "execute_result"
    }
   ],
   "source": [
    "df.head()"
   ]
  },
  {
   "cell_type": "code",
   "execution_count": 37,
   "id": "2f12d872-1d53-4cbb-87f9-3e31c8c2048b",
   "metadata": {},
   "outputs": [],
   "source": [
    "df_minorty = df[df['target'] == 1]\n",
    "df_majority = df[df['target'] == 0]"
   ]
  },
  {
   "cell_type": "code",
   "execution_count": 40,
   "id": "e6df164a-3826-4f41-b835-025017083516",
   "metadata": {},
   "outputs": [],
   "source": [
    "df_majority_downsample = resample(df_majority,\n",
    "                              replace = False, # sample with replacement\n",
    "                              n_samples=len(df_minorty), # to match the minority class\n",
    "                              random_state=42)"
   ]
  },
  {
   "cell_type": "code",
   "execution_count": 41,
   "id": "a36a156c-b2ee-4dbc-84aa-c29f0139348a",
   "metadata": {},
   "outputs": [
    {
     "data": {
      "text/plain": [
       "(100, 3)"
      ]
     },
     "execution_count": 41,
     "metadata": {},
     "output_type": "execute_result"
    }
   ],
   "source": [
    "df_majority_downsample.shape"
   ]
  },
  {
   "cell_type": "code",
   "execution_count": 43,
   "id": "a4664f83-66d9-49a9-8195-e2a06dea4938",
   "metadata": {},
   "outputs": [],
   "source": [
    "df_downsampled = pd.concat([df_minorty,df_majority_downsample])"
   ]
  },
  {
   "cell_type": "code",
   "execution_count": 45,
   "id": "4d0f4c8e-fc74-4533-bf12-55d0fc8370f9",
   "metadata": {},
   "outputs": [
    {
     "data": {
      "text/plain": [
       "(200, 3)"
      ]
     },
     "execution_count": 45,
     "metadata": {},
     "output_type": "execute_result"
    }
   ],
   "source": [
    "df_downsampled.shape"
   ]
  },
  {
   "cell_type": "code",
   "execution_count": 48,
   "id": "65a999a1-31fe-4a88-8f39-805a93fc459f",
   "metadata": {},
   "outputs": [
    {
     "data": {
      "text/plain": [
       "target\n",
       "1    100\n",
       "0    100\n",
       "Name: count, dtype: int64"
      ]
     },
     "execution_count": 48,
     "metadata": {},
     "output_type": "execute_result"
    }
   ],
   "source": [
    "df_downsampled['target'].value_counts()"
   ]
  }
 ],
 "metadata": {
  "kernelspec": {
   "display_name": "Python 3 (ipykernel)",
   "language": "python",
   "name": "python3"
  },
  "language_info": {
   "codemirror_mode": {
    "name": "ipython",
    "version": 3
   },
   "file_extension": ".py",
   "mimetype": "text/x-python",
   "name": "python",
   "nbconvert_exporter": "python",
   "pygments_lexer": "ipython3",
   "version": "3.12.4"
  },
  "widgets": {
   "application/vnd.jupyter.widget-state+json": {
    "state": {},
    "version_major": 2,
    "version_minor": 0
   }
  }
 },
 "nbformat": 4,
 "nbformat_minor": 5
}
